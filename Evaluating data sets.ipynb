{
 "cells": [
  {
   "cell_type": "markdown",
   "metadata": {},
   "source": [
    "1) This dataset is biased because it only accounts for bookings from airbnb.  We should gather data from other travel sites to properly answer the question, what are the popular neighborhoods in Amsterdam?\n",
    "\n",
    "2) The problem with this dataset is that it takes data on mental health services use in New York, NY, right after an horrific and unusal situation that was the terrorist attack on 9/11 and compares it with data under normal circumstances from San Francisco, CA.  To get a better comparison on how patterns of mental health services use vary between cities, one should collect data from cities under normal day-to-day circumstances, and not exceptional circumstances.\n",
    "\n",
    "3) Because the majority of survey responders were University students, this survey won't accurately tell you why the general Armenian public would visit a local pub.  So to accomodate this dataset, one should ask why Armenian University students visit local pubs."
   ]
  }
 ],
 "metadata": {
  "kernelspec": {
   "display_name": "Python 3",
   "language": "python",
   "name": "python3"
  },
  "language_info": {
   "codemirror_mode": {
    "name": "ipython",
    "version": 3
   },
   "file_extension": ".py",
   "mimetype": "text/x-python",
   "name": "python",
   "nbconvert_exporter": "python",
   "pygments_lexer": "ipython3",
   "version": "3.7.0"
  }
 },
 "nbformat": 4,
 "nbformat_minor": 2
}
